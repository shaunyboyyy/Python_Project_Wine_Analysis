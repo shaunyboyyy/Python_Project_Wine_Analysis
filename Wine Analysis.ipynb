{
 "cells": [
  {
   "cell_type": "markdown",
   "metadata": {},
   "source": [
    "# Python Group Presentation\n",
    "\n",
    "### Using NLP and Machine Learning to predict price of wines using wine reviews\n",
    "\n",
    "#### Group Members \n",
    "Onno Ho\n",
    "Sabrina Lin\n",
    "Shaun Ang\n",
    "Natalie Rohr\n",
    "Shaun Whitmarsh\n",
    "Jemma Shin"
   ]
  },
  {
   "cell_type": "code",
   "execution_count": null,
   "metadata": {},
   "outputs": [],
   "source": []
  }
 ],
 "metadata": {
  "kernelspec": {
   "display_name": "Python 3",
   "language": "python",
   "name": "python3"
  },
  "language_info": {
   "codemirror_mode": {
    "name": "ipython",
    "version": 3
   },
   "file_extension": ".py",
   "mimetype": "text/x-python",
   "name": "python",
   "nbconvert_exporter": "python",
   "pygments_lexer": "ipython3",
   "version": "3.7.0"
  }
 },
 "nbformat": 4,
 "nbformat_minor": 2
}
